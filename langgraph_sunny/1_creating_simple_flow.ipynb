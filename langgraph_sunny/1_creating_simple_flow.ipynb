{
 "cells": [
  {
   "cell_type": "code",
   "execution_count": 1,
   "id": "d89333f8",
   "metadata": {},
   "outputs": [],
   "source": [
    "from langgraph.graph import StateGraph ,START,END,add_messages\n",
    "from typing import TypedDict,Annotated,List"
   ]
  },
  {
   "cell_type": "code",
   "execution_count": 2,
   "id": "ebdd0513",
   "metadata": {},
   "outputs": [
    {
     "data": {
      "image/png": "[encoded data removed]",
      "text/plain": [
       "<IPython.core.display.Image object>"
      ]
     },
     "metadata": {},
     "output_type": "display_data"
    }
   ],
   "source": [
    "## 1) step:1 -> create a class for state\n",
    "class State(TypedDict):\n",
    "    messages:Annotated[list,add_messages]\n",
    "\n",
    "## step:2-> Add node defination\n",
    "def function_1(state:State)->str:\n",
    "    return \"This is function 1\"\n",
    "\n",
    "def function_2(state:State)->str:\n",
    "    return \"This is function 2\"\n",
    "\n",
    "def function_3(state:State)->str:\n",
    "    return \"This is function 3\"\n",
    "\n",
    "## step:3 -> build the graph\n",
    "graph=StateGraph(State)\n",
    "graph.add_node(\"function_1\",function_1)\n",
    "graph.add_node(\"function_2\",function_2)\n",
    "graph.add_node(\"function_3\",function_3)\n",
    "\n",
    "graph.add_edge(START,\"function_1\")\n",
    "graph.add_edge(\"function_1\",\"function_2\")\n",
    "graph.add_edge(\"function_2\",\"function_3\")\n",
    "\n",
    "## step:4 ->compiling the graph\n",
    "graph_builder=graph.compile()\n",
    "\n",
    "## step:5 ->display the graph\n",
    "from IPython.display import display, Image\n",
    "try:\n",
    "    display(Image(graph_builder.get_graph().draw_mermaid_png()))\n",
    "except Exception as e:\n",
    "    print(f\"Error displaying graph: {e}\")\n",
    "\n",
    "\n",
    "\n",
    "\n",
    "\n"
   ]
  },
  {
   "cell_type": "markdown",
   "id": "5d5f6b6b",
   "metadata": {},
   "source": [
    "### Calling LLM in the workflow"
   ]
  },
  {
   "cell_type": "code",
   "execution_count": 3,
   "id": "2e562001",
   "metadata": {},
   "outputs": [
    {
     "data": {
      "text/plain": [
       "ChatGroq(client=<groq.resources.chat.completions.Completions object at 0x00000140F9C8DA90>, async_client=<groq.resources.chat.completions.AsyncCompletions object at 0x00000140F9DDD810>, model_name='llama3-8b-8192', model_kwargs={}, groq_api_key=SecretStr('**********'))"
      ]
     },
     "execution_count": 3,
     "metadata": {},
     "output_type": "execute_result"
    }
   ],
   "source": [
    "from langchain_groq import ChatGroq\n",
    "\n",
    "from langchain.chat_models import init_chat_model\n",
    "import os \n",
    "from dotenv import load_dotenv\n",
    "load_dotenv()\n",
    "llm=ChatGroq(model=\"llama3-8b-8192\")  \n",
    "llm\n"
   ]
  },
  {
   "cell_type": "code",
   "execution_count": null,
   "id": "43cca592",
   "metadata": {},
   "outputs": [
    {
     "data": {
      "image/png": "[encoded data removed]",
      "text/plain": [
       "<IPython.core.display.Image object>"
      ]
     },
     "metadata": {},
     "output_type": "display_data"
    }
   ],
   "source": [
    "from langgraph.memo\n",
    "class state_llm(TypedDict):\n",
    "    messages: Annotated[List,add_messages]\n",
    "\n",
    "graph=StateGraph(state_llm)\n",
    "\n",
    "# step:3 create node defination\n",
    "def llm_call(state:state_llm)->str:\n",
    "    messages=state[\"messages\"]\n",
    "    return {\"messages\": llm.invoke(messages)}\n",
    "\n",
    "#   return{\"messages\":[llm.invoke(state[\"messages\"])]}\n",
    "\n",
    "graph.add_node(\"llm\",llm_call)\n",
    "graph.add_edge(START,\"llm\")\n",
    "graph.add_edge(\"llm\",END)\n",
    "\n",
    "graph_builder_llm=graph.compile()\n",
    "\n",
    "from IPython.display import display, Image\n",
    "try:\n",
    "    display(Image(graph_builder_llm.get_graph().draw_mermaid_png()))\n",
    "except Exception as e:\n",
    "    print(f\"Error displaying graph: {e}\")\n"
   ]
  },
  {
   "cell_type": "code",
   "execution_count": 10,
   "id": "3254f075",
   "metadata": {},
   "outputs": [
    {
     "data": {
      "text/plain": [
       "{'messages': [HumanMessage(content='Hi how are u', additional_kwargs={}, response_metadata={}, id='83844be5-b362-4d6c-aebe-3157c171197a'),\n",
       "  AIMessage(content=\"I'm just a language model, I don't have emotions or feelings like humans do, so I don't have a personal state of being. However, I'm functioning properly and ready to assist you with any questions or tasks you may have! How can I help you today?\", additional_kwargs={}, response_metadata={'token_usage': {'completion_tokens': 57, 'prompt_tokens': 14, 'total_tokens': 71, 'completion_time': 0.03931297, 'prompt_time': 0.002064595, 'queue_time': 0.268283638, 'total_time': 0.041377565}, 'model_name': 'llama3-8b-8192', 'system_fingerprint': 'fp_8dc6ecaf8e', 'finish_reason': 'stop', 'logprobs': None}, id='run--51822a4e-bbd7-40e9-90f9-4be05ec6ed14-0', usage_metadata={'input_tokens': 14, 'output_tokens': 57, 'total_tokens': 71})]}"
      ]
     },
     "execution_count": 10,
     "metadata": {},
     "output_type": "execute_result"
    }
   ],
   "source": [
    "graph_builder_llm.invoke({\"messages\":\"Hi how are u\"})"
   ]
  },
  {
   "cell_type": "code",
   "execution_count": 11,
   "id": "8d5fc8ba",
   "metadata": {},
   "outputs": [
    {
     "data": {
      "text/plain": [
       "{'messages': [HumanMessage(content='Hi how are u', additional_kwargs={}, response_metadata={}, id='76d16dc0-b64b-4382-9c7b-fbda05e01be4'),\n",
       "  AIMessage(content=\"I'm just an AI, so I don't have feelings like humans do, but I'm functioning properly and ready to help with any questions or tasks you may have! How about you? How's your day going so far?\", additional_kwargs={}, response_metadata={'token_usage': {'completion_tokens': 47, 'prompt_tokens': 14, 'total_tokens': 61, 'completion_time': 0.032631549, 'prompt_time': 0.002044876, 'queue_time': 0.267789773, 'total_time': 0.034676425}, 'model_name': 'llama3-8b-8192', 'system_fingerprint': 'fp_8dc6ecaf8e', 'finish_reason': 'stop', 'logprobs': None}, id='run--89aed34d-37b4-4175-90e5-13bb42cc088f-0', usage_metadata={'input_tokens': 14, 'output_tokens': 47, 'total_tokens': 61})]}"
      ]
     },
     "execution_count": 11,
     "metadata": {},
     "output_type": "execute_result"
    }
   ],
   "source": [
    "config={\"configurable\":{\"thread_id\":\"1\"}}\n",
    "graph_builder_llm.invoke({\"messages\":\"Hi how are u\"},config=config)\n"
   ]
  },
  {
   "cell_type": "code",
   "execution_count": 13,
   "id": "3c836b7a",
   "metadata": {},
   "outputs": [
    {
     "data": {
      "text/plain": [
       "{'messages': [HumanMessage(content='Hi how are u bro', additional_kwargs={}, response_metadata={}, id='9f1e70b4-dbdc-402e-b4d5-1d551ce8ac57'),\n",
       "  AIMessage(content=\"Hi! I'm just an AI, so I don't have feelings or emotions like humans do, but I'm functioning properly and ready to help with any questions or tasks you have! How about you? How's your day going?\", additional_kwargs={}, response_metadata={'token_usage': {'completion_tokens': 48, 'prompt_tokens': 15, 'total_tokens': 63, 'completion_time': 0.034761771, 'prompt_time': 0.002301117, 'queue_time': 0.272818022, 'total_time': 0.037062888}, 'model_name': 'llama3-8b-8192', 'system_fingerprint': 'fp_6d1c2b0784', 'finish_reason': 'stop', 'logprobs': None}, id='run--bcf95818-f693-42e2-9c80-0638c49a4a5e-0', usage_metadata={'input_tokens': 15, 'output_tokens': 48, 'total_tokens': 63})]}"
      ]
     },
     "execution_count": 13,
     "metadata": {},
     "output_type": "execute_result"
    }
   ],
   "source": [
    "graph_builder_llm.invoke({\"messages\":\"Hi how are u bro\"},config=config)"
   ]
  },
  {
   "cell_type": "code",
   "execution_count": null,
   "id": "62d61f86",
   "metadata": {},
   "outputs": [],
   "source": []
  }
 ],
 "metadata": {
  "kernelspec": {
   "display_name": "Langraph",
   "language": "python",
   "name": "python3"
  },
  "language_info": {
   "codemirror_mode": {
    "name": "ipython",
    "version": 3
   },
   "file_extension": ".py",
   "mimetype": "text/x-python",
   "name": "python",
   "nbconvert_exporter": "python",
   "pygments_lexer": "ipython3",
   "version": "3.11.0"
  }
 },
 "nbformat": 4,
 "nbformat_minor": 5
}
