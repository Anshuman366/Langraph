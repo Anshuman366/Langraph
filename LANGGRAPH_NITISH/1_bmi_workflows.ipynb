{
 "cells": [
  {
   "cell_type": "code",
   "execution_count": 7,
   "id": "340ff186",
   "metadata": {},
   "outputs": [],
   "source": [
    "from langgraph.graph import StateGraph,START, END\n",
    "from typing import TypedDict"
   ]
  },
  {
   "cell_type": "code",
   "execution_count": 11,
   "id": "b2d08931",
   "metadata": {},
   "outputs": [],
   "source": [
    "class bmi_state(TypedDict):\n",
    "    height: float\n",
    "    weight: float\n",
    "    bmi: float\n",
    "    category: str\n"
   ]
  },
  {
   "cell_type": "code",
   "execution_count": 12,
   "id": "89395818",
   "metadata": {},
   "outputs": [],
   "source": [
    "def calculate_bmi(state: bmi_state) -> bmi_state:\n",
    "    \"\"\"Calculate BMI based on height and weight.\"\"\"\n",
    "    if state['height'] <= 0:\n",
    "        raise ValueError(\"Height must be greater than zero.\")\n",
    "    state['bmi'] = state['weight'] / (state['height'] ** 2) ## partial updat of our state\n",
    "    return state \n",
    "\n",
    "def Label_bmi(state: bmi_state) -> bmi_state:\n",
    "    \"\"\"Label the BMI category based on the calculated BMI.\"\"\"\n",
    "    if state['bmi'] < 18.5:\n",
    "        state['category']= \"Underweight\" \n",
    "    elif 18.5 <= state['bmi'] < 24.9:\n",
    "        state['category']= \"Normal weight\"\n",
    "    elif 25 <= state['bmi'] < 29.9:\n",
    "        state['category']= \"Overweight\"\n",
    "    else:\n",
    "        state['category']= \"Obesity\"\n",
    "    return state"
   ]
  },
  {
   "cell_type": "code",
   "execution_count": 13,
   "id": "f0ab6bd4",
   "metadata": {},
   "outputs": [
    {
     "data": {
      "image/png": "[encoded data removed]",
      "text/plain": [
       "<IPython.core.display.Image object>"
      ]
     },
     "metadata": {},
     "output_type": "display_data"
    }
   ],
   "source": [
    "## Defining Graph\n",
    "graph=StateGraph(bmi_state)\n",
    "\n",
    "## Add nodes to ur graph\n",
    "graph.add_node(\"calculate_bmi\",calculate_bmi)\n",
    "graph.add_node(\"Label_bmi\", Label_bmi)\n",
    "\n",
    "## add edge to ur graph\n",
    "graph.add_edge(START, \"calculate_bmi\")\n",
    "graph.add_edge(\"calculate_bmi\", \"Label_bmi\")\n",
    "graph.add_edge(\"Label_bmi\", END)\n",
    "\n",
    "\n",
    "## compilr the graph\n",
    "workflow=graph.compile() \n",
    "\n",
    "from IPython.display import display, Image\n",
    "display(Image(workflow.get_graph().draw_mermaid_png()))"
   ]
  },
  {
   "cell_type": "code",
   "execution_count": 14,
   "id": "66ee72ca",
   "metadata": {},
   "outputs": [
    {
     "data": {
      "text/plain": [
       "{'height': 1.75,\n",
       " 'weight': 70,\n",
       " 'bmi': 22.857142857142858,\n",
       " 'category': 'Normal weight'}"
      ]
     },
     "execution_count": 14,
     "metadata": {},
     "output_type": "execute_result"
    }
   ],
   "source": [
    "workflow.invoke({\"height\": 1.75, \"weight\": 70})"
   ]
  },
  {
   "cell_type": "code",
   "execution_count": null,
   "id": "9c66f099",
   "metadata": {},
   "outputs": [],
   "source": []
  }
 ],
 "metadata": {
  "kernelspec": {
   "display_name": "Langraph",
   "language": "python",
   "name": "python3"
  },
  "language_info": {
   "codemirror_mode": {
    "name": "ipython",
    "version": 3
   },
   "file_extension": ".py",
   "mimetype": "text/x-python",
   "name": "python",
   "nbconvert_exporter": "python",
   "pygments_lexer": "ipython3",
   "version": "3.11.0"
  }
 },
 "nbformat": 4,
 "nbformat_minor": 5
}
