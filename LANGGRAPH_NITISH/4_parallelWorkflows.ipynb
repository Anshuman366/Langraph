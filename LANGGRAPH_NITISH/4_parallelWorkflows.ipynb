{
 "cells": [
  {
   "cell_type": "code",
   "execution_count": 112,
   "id": "abad9d91",
   "metadata": {},
   "outputs": [],
   "source": [
    "from langgraph.graph import StateGraph,START,END\n",
    "from typing import TypedDict"
   ]
  },
  {
   "cell_type": "code",
   "execution_count": 113,
   "id": "f7b29d8f",
   "metadata": {},
   "outputs": [],
   "source": [
    "class BatsmanState(TypedDict):\n",
    "    runs: int\n",
    "    balls: int\n",
    "    fours:int\n",
    "    sixes:int\n",
    "\n",
    "    sr:float\n",
    "    bpb:float\n",
    "    boundary_percentage:float\n",
    "    Summary:str\n",
    "\n",
    "graph=StateGraph(BatsmanState)"
   ]
  },
  {
   "cell_type": "code",
   "execution_count": 114,
   "id": "1ff99228",
   "metadata": {},
   "outputs": [],
   "source": [
    "def calculate_sr(state:BatsmanState)->BatsmanState:\n",
    "    runs=state[\"runs\"]\n",
    "    balls=state[\"balls\"]\n",
    "\n",
    "    sr=(runs/balls)*100\n",
    "    return {\"sr\":sr} ## we are returning the dictionary jo ki humne update kia hai insted of sending the entire state\n",
    "                    ## this is completly allowed\n"
   ]
  },
  {
   "cell_type": "code",
   "execution_count": 115,
   "id": "e5bcba99",
   "metadata": {},
   "outputs": [],
   "source": [
    "def calculate_bpb(state:BatsmanState)->BatsmanState:\n",
    "    balls=state[\"balls\"]\n",
    "    fours=state[\"fours\"]\n",
    "    sixes=state[\"sixes\"]\n",
    "\n",
    "    boundary=fours+sixes\n",
    "\n",
    "    bpb=balls/boundary\n",
    "\n",
    "    return {\"bpb\":bpb}"
   ]
  },
  {
   "cell_type": "code",
   "execution_count": 116,
   "id": "310224da",
   "metadata": {},
   "outputs": [],
   "source": [
    "def calculate_boundary_percentage(state:BatsmanState)->BatsmanState:\n",
    "    four_run=state[\"fours\"]*4\n",
    "    six_run=state[\"sixes\"]*6\n",
    "    total_runs=state[\"runs\"]\n",
    "    boundary_run=four_run+six_run\n",
    "\n",
    "    bp=total_runs/boundary_run\n",
    "\n",
    "    return {\"boundary_percentage\":bp}"
   ]
  },
  {
   "cell_type": "code",
   "execution_count": 117,
   "id": "38890dce",
   "metadata": {},
   "outputs": [],
   "source": [
    "def summary(state:BatsmanState)->BatsmanState:\n",
    "    summary=f\"\"\"\n",
    "    Strike Rate - {state[\"sr\"]}\\n\n",
    "    Balls Per Boundary - {state['bpb']}\\n\n",
    "    Boundary Percent - {state['boundary_percentage']}\\n\n",
    "\n",
    "    \"\"\"\n",
    "\n",
    "    return {\"Summary\":summary}"
   ]
  },
  {
   "cell_type": "code",
   "execution_count": 118,
   "id": "3dd56bb9",
   "metadata": {},
   "outputs": [
    {
     "data": {
      "image/png": "[encoded data removed]",
      "text/plain": [
       "<langgraph.graph.state.CompiledStateGraph object at 0x0000029F48EA8150>"
      ]
     },
     "execution_count": 118,
     "metadata": {},
     "output_type": "execute_result"
    }
   ],
   "source": [
    "graph.add_node(\"strike-rate\",calculate_sr)\n",
    "graph.add_node(\"calculate_bpb\",calculate_bpb)\n",
    "graph.add_node(\"calculate_boundary_percentage\",calculate_boundary_percentage)\n",
    "graph.add_node(\"summary\",summary)\n",
    "\n",
    "graph.add_edge(START,\"strike-rate\")\n",
    "graph.add_edge(START,\"calculate_bpb\")\n",
    "graph.add_edge(START,\"calculate_boundary_percentage\")\n",
    "\n",
    "\n",
    "graph.add_edge(\"strike-rate\",\"summary\")\n",
    "graph.add_edge(\"calculate_bpb\",\"summary\")\n",
    "graph.add_edge(\"calculate_boundary_percentage\",\"summary\")\n",
    "\n",
    "graph.add_edge(\"summary\",END)\n",
    "\n",
    "workflow=graph.compile()\n",
    "workflow\n",
    "\n",
    "\n"
   ]
  },
  {
   "cell_type": "markdown",
   "id": "3f006a8b",
   "metadata": {},
   "source": [
    "#### jab hum parallel workflows k andar sara State return krte hai tab hume conflict ata hai \n",
    "#### because lanngarph ko ye lahta hai kia apne sare state me chamge kia hai jiski wajh se conflicy aa sakta hai\n",
    "#### islie langgraph ye allow ni krta , isko thik krne ka lie hume bas jo parallel wale nodes hai usse \n",
    "#### instead of sending the entire node hum whi send krenge jo update ho rha hai\n",
    "\n",
    "#### sara  state ko ni bhejenge , instead dictionary bhejenge jo ki update key and uski \n",
    "#### corrosponding value carry krega"
   ]
  },
  {
   "cell_type": "code",
   "execution_count": 119,
   "id": "e4c5a67b",
   "metadata": {},
   "outputs": [
    {
     "data": {
      "text/plain": [
       "{'runs': 100,\n",
       " 'balls': 58,\n",
       " 'fours': 10,\n",
       " 'sixes': 3,\n",
       " 'sr': 172.41379310344826,\n",
       " 'bpb': 4.461538461538462,\n",
       " 'boundary_percentage': 1.7241379310344827,\n",
       " 'Summary': '\\n    Strike Rate - 172.41379310344826\\n\\n    Balls Per Boundary - 4.461538461538462\\n\\n    Boundary Percent - 1.7241379310344827\\n\\n\\n    '}"
      ]
     },
     "execution_count": 119,
     "metadata": {},
     "output_type": "execute_result"
    }
   ],
   "source": [
    "initial_state={\"runs\":100,\"balls\":58,\"fours\":10,\"sixes\":3}\n",
    "final_state=workflow.invoke(initial_state)\n",
    "final_state"
   ]
  },
  {
   "cell_type": "code",
   "execution_count": null,
   "id": "d9a1d5b1",
   "metadata": {},
   "outputs": [],
   "source": []
  },
  {
   "cell_type": "code",
   "execution_count": null,
   "id": "569ddd85",
   "metadata": {},
   "outputs": [],
   "source": []
  }
 ],
 "metadata": {
  "kernelspec": {
   "display_name": "Langraph",
   "language": "python",
   "name": "python3"
  },
  "language_info": {
   "codemirror_mode": {
    "name": "ipython",
    "version": 3
   },
   "file_extension": ".py",
   "mimetype": "text/x-python",
   "name": "python",
   "nbconvert_exporter": "python",
   "pygments_lexer": "ipython3",
   "version": "3.11.0"
  }
 },
 "nbformat": 4,
 "nbformat_minor": 5
}
