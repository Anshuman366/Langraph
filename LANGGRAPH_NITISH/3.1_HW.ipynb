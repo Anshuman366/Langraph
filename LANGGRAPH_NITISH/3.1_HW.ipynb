{
 "cells": [
  {
   "cell_type": "code",
   "execution_count": 23,
   "id": "21f517f1",
   "metadata": {},
   "outputs": [
    {
     "data": {
      "text/plain": [
       "ChatGroq(client=<groq.resources.chat.completions.Completions object at 0x00000295C57B4450>, async_client=<groq.resources.chat.completions.AsyncCompletions object at 0x00000295C57612D0>, model_name='llama3-8b-8192', model_kwargs={}, groq_api_key=SecretStr('**********'))"
      ]
     },
     "execution_count": 23,
     "metadata": {},
     "output_type": "execute_result"
    }
   ],
   "source": [
    "from langgraph.graph import StateGraph,START,END\n",
    "from langgraph.graph import StateGraph, START, END\n",
    "from typing import TypedDict\n",
    "\n",
    "from langchain_groq import ChatGroq\n",
    "import os \n",
    "from dotenv import load_dotenv\n",
    "load_dotenv()\n",
    "llm=ChatGroq(model=\"llama3-8b-8192\")  \n",
    "llm"
   ]
  },
  {
   "cell_type": "code",
   "execution_count": 24,
   "id": "e74df416",
   "metadata": {},
   "outputs": [],
   "source": [
    "class evaluate_state(TypedDict):\n",
    "    topic:str\n",
    "    outline:str\n",
    "    content:str\n",
    "    score:int\n",
    "\n",
    "graph=StateGraph(evaluate_state)"
   ]
  },
  {
   "cell_type": "code",
   "execution_count": 25,
   "id": "316ce780",
   "metadata": {},
   "outputs": [],
   "source": [
    "## creating nodes\n",
    "\n",
    "def generate_outline(state:evaluate_state)->evaluate_state:\n",
    "    topic=state[\"topic\"]\n",
    "\n",
    "    prompt=f\"Generate a detailed outline for thr topic-{topic}\"\n",
    "\n",
    "    outline=llm.invoke(prompt).content\n",
    "\n",
    "    state[\"outline\"]=outline\n",
    "\n",
    "    return state"
   ]
  },
  {
   "cell_type": "code",
   "execution_count": 26,
   "id": "9d732108",
   "metadata": {},
   "outputs": [],
   "source": [
    "def generate_blog(state:evaluate_state)->evaluate_state:\n",
    "    outline=state[\"outline\"]\n",
    "    topic=state[\"topic\"]\n",
    "\n",
    "    prompt=f\"Generate a blog for the topic - {topic} given outline is - {outline}\"\n",
    "\n",
    "    content=llm.invoke(prompt).content\n",
    "\n",
    "    state[\"content\"]=content\n",
    "\n",
    "    return state"
   ]
  },
  {
   "cell_type": "code",
   "execution_count": 27,
   "id": "6b272c2e",
   "metadata": {},
   "outputs": [],
   "source": [
    "def evaluate_blog(state:evaluate_state)->evaluate_state:\n",
    "    outline=state[\"outline\"]\n",
    "    topic=state[\"topic\"]\n",
    "    content=state[\"content\"]\n",
    "\n",
    "    prompt=f\"\"\" \n",
    "            You will be given  topic, outline and the blog.\n",
    "            your task is to analyse the content of the blog as per the topic and the outline and generate a score\n",
    "            that score should be between 1 to 10 based on the accuracy and the informational value and the relevancy\n",
    "            topic is {topic}\n",
    "            outline is {outline}\n",
    "            content is {content}\n",
    "\n",
    "            ** Just generate the number do not generate anything else**\n",
    "            \"\"\"\n",
    "    \n",
    "    score=llm.invoke(prompt).content\n",
    "\n",
    "    state[\"score\"]=score\n",
    "\n",
    "    return state"
   ]
  },
  {
   "cell_type": "code",
   "execution_count": 28,
   "id": "1c22261f",
   "metadata": {},
   "outputs": [
    {
     "data": {
      "image/png": "[encoded data removed]",
      "text/plain": [
       "<langgraph.graph.state.CompiledStateGraph object at 0x00000295C5706590>"
      ]
     },
     "execution_count": 28,
     "metadata": {},
     "output_type": "execute_result"
    }
   ],
   "source": [
    "## Adding the nodes and the edges\n",
    "\n",
    "graph.add_node(\"generate_outline\",generate_outline)\n",
    "graph.add_node(\"generate_blog\",generate_blog)\n",
    "graph.add_node(\"evaluate_blog\",evaluate_blog)\n",
    "\n",
    "## Add the edges\n",
    "\n",
    "graph.add_edge(START,\"generate_outline\")\n",
    "graph.add_edge(\"generate_outline\",\"generate_blog\")\n",
    "graph.add_edge(\"generate_blog\",\"evaluate_blog\")\n",
    "graph.add_edge(\"evaluate_blog\",END)\n",
    "\n",
    "## compiling the graph\n",
    "workflow=graph.compile()\n",
    "workflow\n"
   ]
  },
  {
   "cell_type": "code",
   "execution_count": 29,
   "id": "4ff63553",
   "metadata": {},
   "outputs": [
    {
     "data": {
      "text/plain": [
       "{'topic': 'Indian Economy',\n",
       " 'outline': 'Here is a detailed outline for the topic \"Indian Economy\":\\n\\n**I. Introduction**\\n\\n* Definition of Indian economy\\n* Importance of Indian economy in the global context\\n* Brief overview of the Indian economy\\'s structure and features\\n\\n**II. Historical Background**\\n\\n* Ancient Indian economy: trade, commerce, and industries\\n* Medieval period: Mughal Empire and the decline of Indian economy\\n* British colonial rule: exploitation and economic underdevelopment\\n* Post-independence era: nationalization, planning, and economic growth\\n\\n**III. Economic Structure**\\n\\n* Overview of the Indian economy\\'s structure\\n* Primary sector: agriculture, forestry, and fishing\\n* Secondary sector: manufacturing, mining, and construction\\n* Tertiary sector: services, finance, and commerce\\n* Quaternary sector: knowledge-based industries and services\\n\\n**IV. Macroeconomic Indicators**\\n\\n* Gross Domestic Product (GDP): definition, calculation, and analysis\\n* National Income: definition, calculation, and analysis\\n* Inflation: definition, causes, and effects\\n* Unemployment: definition, causes, and effects\\n* Balance of Payments (BOP): definition, components, and analysis\\n\\n**V. Economic Sectors**\\n\\n* Agriculture: overview, trends, and challenges\\n* Industry: overview, trends, and challenges\\n* Services: overview, trends, and challenges\\n* Infrastructure: overview, trends, and challenges\\n\\n**VI. Fiscal Policy and Budget**\\n\\n* Definition and importance of fiscal policy\\n* Components of the union budget: revenue, expenditure, and deficits\\n* Budgetary reforms: tax reforms, fiscal discipline, and public financial management\\n\\n**VII. Monetary Policy and Banking**\\n\\n* Definition and importance of monetary policy\\n* Reserve Bank of India (RBI): role, functions, and responsibilities\\n* Monetary policy instruments: interest rates, open market operations, and reserve requirements\\n* Banking system: commercial banks, cooperative banks, and regional rural banks\\n\\n**VIII. International Trade and Investment**\\n\\n* Overview of international trade and investment in India\\n* Export and import policies: tariffs, non-tariff barriers, and trade agreements\\n* Foreign Direct Investment (FDI): definition, benefits, and challenges\\n* Foreign Institutional Investment (FII): definition, benefits, and challenges\\n\\n**IX. Economic Growth and Development**\\n\\n* Definition and importance of economic growth and development\\n* Factors influencing economic growth: population growth, technological progress, and institutional factors\\n* Development strategies: import substitution, export promotion, and industrialization\\n* Challenges facing Indian economy: poverty, inequality, and corruption\\n\\n**X. Conclusion**\\n\\n* Recap of the key points and trends in the Indian economy\\n* Future prospects and challenges for the Indian economy\\n* Policy recommendations for sustainable economic growth and development\\n\\nThis outline provides a comprehensive framework for understanding the Indian economy, covering its historical background, economic structure, macroeconomic indicators, economic sectors, fiscal and monetary policies, international trade and investment, and economic growth and development.',\n",
       " 'content': \"**The Indian Economy: A Comprehensive Overview**\\n\\nIndia, the second-most populous country in the world, has a significant presence in the global economy. With its vast natural resources, diverse culture, and rapidly growing economy, India is an attractive destination for investors, tourists, and businesses alike. In this blog, we will delve into the intricacies of the Indian economy, exploring its historical background, economic structure, macroeconomic indicators, sectors, policies, and growth prospects.\\n\\n**I. Introduction**\\n\\nThe Indian economy is a mixed economy, characterized by a blend of public and private ownership of resources. It is the third-largest economy in the world in terms of purchasing power parity (PPP) and the seventh-largest in nominal terms. The Indian economy is driven by its vast consumer base, rapid industrialization, and growing services sector.\\n\\n**II. Historical Background**\\n\\nIndia's ancient economy was driven by trade, commerce, and industries such as textiles, metals, and gemstones. The medieval period saw the rise of the Mughal Empire, which was followed by British colonial rule. The British exploited India's resources, imposed crippling taxes, and destroyed traditional industries, leading to economic underdevelopment. After independence in 1947, India adopted a mixed economy model, with a strong public sector and a growing private sector.\\n\\n**III. Economic Structure**\\n\\nThe Indian economy is divided into four sectors:\\n\\n* **Primary sector**: Agriculture, forestry, and fishing are the mainstay of India's primary sector, accounting for around 18% of GDP.\\n* **Secondary sector**: Manufacturing, mining, and construction are the key activities in this sector, contributing around 27% to GDP.\\n* **Tertiary sector**: Services, finance, and commerce are the largest contributors to GDP, accounting for around 55%.\\n* **Quaternary sector**: Knowledge-based industries and services, such as IT, biotechnology, and education, are rapidly growing sectors.\\n\\n**IV. Macroeconomic Indicators**\\n\\nMacroeconomic indicators are critical for understanding the overall performance of the economy. Some key indicators include:\\n\\n* **Gross Domestic Product (GDP)**: The total value of goods and services produced within a country's borders.\\n* **National Income**: The total income earned by a country's citizens.\\n* **Inflation**: The rate at which prices are rising, measured as a percentage change in the Consumer Price Index (CPI).\\n* **Unemployment**: The percentage of the labor force that is unable to find employment.\\n* **Balance of Payments (BOP)**: The record of a country's international transactions, including trade, investment, and services.\\n\\n**V. Economic Sectors**\\n\\nIndia's economic sectors are diverse and rapidly growing. Some key sectors include:\\n\\n* **Agriculture**: Agriculture is a significant contributor to India's economy, with crops such as rice, wheat, and cotton being major exports.\\n* **Industry**: India's industrial sector is diverse, with major industries including textiles, steel, automobiles, and pharmaceuticals.\\n* **Services**: Services are the largest contributor to India's GDP, with major sectors including finance, tourism, and IT.\\n* **Infrastructure**: India's infrastructure sector is critical for economic growth, with major areas of focus including transportation, energy, and telecommunications.\\n\\n**VI. Fiscal Policy and Budget**\\n\\nFiscal policy is critical for managing a country's economy. India's fiscal policy is guided by the Union Budget, which outlines the government's revenue and expenditure plans for the year. Some key components of the budget include:\\n\\n* **Revenue**: The government's income from taxes, fees, and other sources.\\n* **Expenditure**: The government's spending on various programs, including infrastructure, education, and healthcare.\\n* **Deficits**: The difference between the government's revenue and expenditure.\\n\\n**VII. Monetary Policy and Banking**\\n\\nMonetary policy is critical for managing inflation and promoting economic growth. India's monetary policy is guided by the Reserve Bank of India (RBI), which sets interest rates and implements various monetary tools to achieve its goals. Some key components of monetary policy include:\\n\\n* **Interest rates**: The rate at which commercial banks lend and borrow money.\\n* **Open market operations**: The RBI's buying and selling of government securities to influence interest rates and money supply.\\n* **Reserve requirements**: The percentage of deposits that commercial banks must hold in reserve.\\n\\n**VIII. International Trade and Investment**\\n\\nIndia is a significant player in international trade and investment. Some key areas include:\\n\\n* **Export and import policies**: India's trade policies, including tariffs, non-tariff barriers, and trade agreements.\\n* **Foreign Direct Investment (FDI)**: Investment by foreign companies in Indian businesses.\\n* **Foreign Institutional Investment (FII)**: Investment by foreign institutional investors, such as mutual funds and pension funds.\\n\\n**IX. Economic Growth and Development**\\n\\nEconomic growth and development are critical for India's future prospects. Some key areas include:\\n\\n* **Factors influencing economic growth**: Population growth, technological progress, and institutional factors are key drivers of economic growth.\\n* **Development strategies**: Import substitution, export promotion, and industrialization are key strategies for promoting economic development.\\n* **Challenges facing Indian economy**: Poverty, inequality, and corruption are significant challenges facing India's economy.\\n\\n**X. Conclusion**\\n\\nThe Indian economy is a complex and rapidly evolving system. This blog has provided a comprehensive overview of the Indian economy, covering its historical background, economic structure, macroeconomic indicators, sectors, policies, and growth prospects. As India continues to grow and develop, it is essential to address the challenges facing its economy and promote sustainable economic growth and development.\\n\\n**Future Prospects and Challenges**\\n\\nIndia's future prospects are bright, with a growing middle class, rapid technological progress, and a young and dynamic population. However, the country also faces significant challenges, including poverty, inequality, and corruption. To address these challenges, India must continue to implement reforms, promote sustainable economic growth, and ensure that its economic benefits are shared equitably among all citizens.\\n\\n**Policy Recommendations**\\n\\nTo promote sustainable economic growth and development, India should:\\n\\n* Implement structural reforms to promote competition, entrepreneurship, and innovation.\\n* Invest in human capital, including education and healthcare.\\n* Promote sustainable infrastructure development, including transportation, energy, and telecommunications.\\n* Address poverty and inequality through targeted social programs.\\n* Promote transparency and accountability in government, including the fight against corruption.\\n\\nBy implementing these reforms and policies, India can promote sustainable economic growth, reduce poverty and inequality, and ensure that its economic benefits are shared equitably among all citizens.\",\n",
       " 'score': \"Based on the topic and outline provided, I would give the content a score of 8 out of 10. The content is well-organized and covers a wide range of topics related to the Indian economy, from its historical background to its economic structure, macroeconomic indicators, sectors, policies, and growth prospects. The language is clear and concise, making it easy to understand for a general audience.\\n\\nHowever, there are a few areas where the content could be improved. For example:\\n\\n* The content could benefit from more specific data and statistics to support its arguments and claims. While there are some general statistics cited, more detailed and up-to-date information would be helpful.\\n* The content could also benefit from more analysis and critique of the Indian economy. While it provides a good overview of the economy's structure and sectors, it could delve deeper into the challenges and controversies facing the economy.\\n* Finally, the content could benefit from more concrete policy recommendations. While it provides some general suggestions for promoting sustainable economic growth and development, it could be more specific and detailed in its recommendations.\\n\\nOverall, however, the content is well-written and provides a good introduction to the Indian economy. With some additional data, analysis, and policy recommendations, it could be even stronger.\"}"
      ]
     },
     "execution_count": 29,
     "metadata": {},
     "output_type": "execute_result"
    }
   ],
   "source": [
    "initial_state={\"topic\":\"Indian Economy\"}\n",
    "final_state=workflow.invoke(initial_state)\n",
    "final_state"
   ]
  },
  {
   "cell_type": "code",
   "execution_count": 30,
   "id": "6744729a",
   "metadata": {},
   "outputs": [
    {
     "data": {
      "text/plain": [
       "'Here is a detailed outline for the topic \"Indian Economy\":\\n\\n**I. Introduction**\\n\\n* Definition of Indian economy\\n* Importance of Indian economy in the global context\\n* Brief overview of the Indian economy\\'s structure and features\\n\\n**II. Historical Background**\\n\\n* Ancient Indian economy: trade, commerce, and industries\\n* Medieval period: Mughal Empire and the decline of Indian economy\\n* British colonial rule: exploitation and economic underdevelopment\\n* Post-independence era: nationalization, planning, and economic growth\\n\\n**III. Economic Structure**\\n\\n* Overview of the Indian economy\\'s structure\\n* Primary sector: agriculture, forestry, and fishing\\n* Secondary sector: manufacturing, mining, and construction\\n* Tertiary sector: services, finance, and commerce\\n* Quaternary sector: knowledge-based industries and services\\n\\n**IV. Macroeconomic Indicators**\\n\\n* Gross Domestic Product (GDP): definition, calculation, and analysis\\n* National Income: definition, calculation, and analysis\\n* Inflation: definition, causes, and effects\\n* Unemployment: definition, causes, and effects\\n* Balance of Payments (BOP): definition, components, and analysis\\n\\n**V. Economic Sectors**\\n\\n* Agriculture: overview, trends, and challenges\\n* Industry: overview, trends, and challenges\\n* Services: overview, trends, and challenges\\n* Infrastructure: overview, trends, and challenges\\n\\n**VI. Fiscal Policy and Budget**\\n\\n* Definition and importance of fiscal policy\\n* Components of the union budget: revenue, expenditure, and deficits\\n* Budgetary reforms: tax reforms, fiscal discipline, and public financial management\\n\\n**VII. Monetary Policy and Banking**\\n\\n* Definition and importance of monetary policy\\n* Reserve Bank of India (RBI): role, functions, and responsibilities\\n* Monetary policy instruments: interest rates, open market operations, and reserve requirements\\n* Banking system: commercial banks, cooperative banks, and regional rural banks\\n\\n**VIII. International Trade and Investment**\\n\\n* Overview of international trade and investment in India\\n* Export and import policies: tariffs, non-tariff barriers, and trade agreements\\n* Foreign Direct Investment (FDI): definition, benefits, and challenges\\n* Foreign Institutional Investment (FII): definition, benefits, and challenges\\n\\n**IX. Economic Growth and Development**\\n\\n* Definition and importance of economic growth and development\\n* Factors influencing economic growth: population growth, technological progress, and institutional factors\\n* Development strategies: import substitution, export promotion, and industrialization\\n* Challenges facing Indian economy: poverty, inequality, and corruption\\n\\n**X. Conclusion**\\n\\n* Recap of the key points and trends in the Indian economy\\n* Future prospects and challenges for the Indian economy\\n* Policy recommendations for sustainable economic growth and development\\n\\nThis outline provides a comprehensive framework for understanding the Indian economy, covering its historical background, economic structure, macroeconomic indicators, economic sectors, fiscal and monetary policies, international trade and investment, and economic growth and development.'"
      ]
     },
     "execution_count": 30,
     "metadata": {},
     "output_type": "execute_result"
    }
   ],
   "source": [
    "final_state[\"outline\"]"
   ]
  },
  {
   "cell_type": "code",
   "execution_count": null,
   "id": "3b7d2ef1",
   "metadata": {},
   "outputs": [],
   "source": []
  }
 ],
 "metadata": {
  "kernelspec": {
   "display_name": "Langraph",
   "language": "python",
   "name": "python3"
  },
  "language_info": {
   "codemirror_mode": {
    "name": "ipython",
    "version": 3
   },
   "file_extension": ".py",
   "mimetype": "text/x-python",
   "name": "python",
   "nbconvert_exporter": "python",
   "pygments_lexer": "ipython3",
   "version": "3.11.0"
  }
 },
 "nbformat": 4,
 "nbformat_minor": 5
}
