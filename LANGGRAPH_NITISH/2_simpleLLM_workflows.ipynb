{
 "cells": [
  {
   "cell_type": "code",
   "execution_count": 27,
   "id": "332bea27",
   "metadata": {},
   "outputs": [
    {
     "data": {
      "text/plain": [
       "ChatGroq(client=<groq.resources.chat.completions.Completions object at 0x000001CE6448E290>, async_client=<groq.resources.chat.completions.AsyncCompletions object at 0x000001CE6430FB90>, model_name='llama3-8b-8192', model_kwargs={}, groq_api_key=SecretStr('**********'))"
      ]
     },
     "execution_count": 27,
     "metadata": {},
     "output_type": "execute_result"
    }
   ],
   "source": [
    "from langgraph.graph import StateGraph, START, END\n",
    "from typing import TypedDict\n",
    "\n",
    "from langchain_groq import ChatGroq\n",
    "import os \n",
    "from dotenv import load_dotenv\n",
    "load_dotenv()\n",
    "llm=ChatGroq(model=\"llama3-8b-8192\")  \n",
    "llm"
   ]
  },
  {
   "cell_type": "code",
   "execution_count": 28,
   "id": "a95392fb",
   "metadata": {},
   "outputs": [],
   "source": [
    "class LLMState(TypedDict):\n",
    "    question: str\n",
    "    Answer: str\n",
    "\n",
    "graph=StateGraph(LLMState)"
   ]
  },
  {
   "cell_type": "code",
   "execution_count": 29,
   "id": "44899365",
   "metadata": {},
   "outputs": [
    {
     "data": {
      "text/plain": [
       "<langgraph.graph.state.StateGraph at 0x1ce64334990>"
      ]
     },
     "execution_count": 29,
     "metadata": {},
     "output_type": "execute_result"
    }
   ],
   "source": [
    "def llm_check(state:LLMState)->LLMState:\n",
    "    question=state['question']\n",
    "    answer=llm.invoke(question).content\n",
    "    state['Answer']=answer\n",
    "    return state\n",
    "\n",
    "graph.add_node(\"llm_check\", llm_check)"
   ]
  },
  {
   "cell_type": "code",
   "execution_count": 30,
   "id": "182fdb26",
   "metadata": {},
   "outputs": [],
   "source": [
    "\n",
    "\n",
    "graph.add_edge(START, \"llm_check\")\n",
    "graph.add_edge(\"llm_check\", END)\n",
    "\n",
    "workflow=graph.compile()\n",
    "\n"
   ]
  },
  {
   "cell_type": "code",
   "execution_count": 33,
   "id": "72e369d8",
   "metadata": {},
   "outputs": [
    {
     "data": {
      "text/plain": [
       "{'question': 'What is the capital of india?',\n",
       " 'Answer': 'The capital of India is New Delhi.'}"
      ]
     },
     "execution_count": 33,
     "metadata": {},
     "output_type": "execute_result"
    }
   ],
   "source": [
    "initial_state={\"question\": \"What is the capital of india?\"}\n",
    "final_state=workflow.invoke(initial_state)\n",
    "final_state"
   ]
  },
  {
   "cell_type": "code",
   "execution_count": null,
   "id": "bcd86cfe",
   "metadata": {},
   "outputs": [],
   "source": []
  }
 ],
 "metadata": {
  "kernelspec": {
   "display_name": "Langraph",
   "language": "python",
   "name": "python3"
  },
  "language_info": {
   "codemirror_mode": {
    "name": "ipython",
    "version": 3
   },
   "file_extension": ".py",
   "mimetype": "text/x-python",
   "name": "python",
   "nbconvert_exporter": "python",
   "pygments_lexer": "ipython3",
   "version": "3.11.0"
  }
 },
 "nbformat": 4,
 "nbformat_minor": 5
}
