{
 "cells": [
  {
   "cell_type": "code",
   "execution_count": 1,
   "id": "a66d18e9",
   "metadata": {},
   "outputs": [
    {
     "data": {
      "text/plain": [
       "ChatGroq(client=<groq.resources.chat.completions.Completions object at 0x0000024A65693390>, async_client=<groq.resources.chat.completions.AsyncCompletions object at 0x0000024A65737E10>, model_name='llama3-8b-8192', model_kwargs={}, groq_api_key=SecretStr('**********'))"
      ]
     },
     "execution_count": 1,
     "metadata": {},
     "output_type": "execute_result"
    }
   ],
   "source": [
    "from langgraph.graph import StateGraph, START, END\n",
    "from typing import TypedDict\n",
    "\n",
    "from langchain_groq import ChatGroq\n",
    "import os \n",
    "from dotenv import load_dotenv\n",
    "load_dotenv()\n",
    "llm=ChatGroq(model=\"llama3-8b-8192\")  \n",
    "llm"
   ]
  },
  {
   "cell_type": "code",
   "execution_count": 2,
   "id": "552bc425",
   "metadata": {},
   "outputs": [],
   "source": [
    "class prompt_chain_state(TypedDict):\n",
    "    topic: str\n",
    "    outline: str\n",
    "    content:str\n",
    "\n",
    "graph=StateGraph(prompt_chain_state)\n",
    "\n"
   ]
  },
  {
   "cell_type": "code",
   "execution_count": 3,
   "id": "2294bad9",
   "metadata": {},
   "outputs": [],
   "source": [
    "## create nodes\n",
    "def generate_outline(state:prompt_chain_state)->prompt_chain_state:\n",
    "    topic=state[\"topic\"]\n",
    "\n",
    "    prompt=f\"generate a outline for the topic {topic}\"\n",
    "\n",
    "    outline=llm.invoke(prompt).content\n",
    "    state[\"outline\"]=outline\n",
    "    return state\n"
   ]
  },
  {
   "cell_type": "code",
   "execution_count": 4,
   "id": "95f54310",
   "metadata": {},
   "outputs": [],
   "source": [
    "def generate_blog(state:prompt_chain_state)->prompt_chain_state:\n",
    "    outline=state[\"outline\"]\n",
    "\n",
    "    prompt=f\"generate a blog content for the outline {outline}\"\n",
    "\n",
    "    content=llm.invoke(prompt).content\n",
    "    state[\"content\"]=content\n",
    "    return state"
   ]
  },
  {
   "cell_type": "code",
   "execution_count": 5,
   "id": "158f6806",
   "metadata": {},
   "outputs": [],
   "source": [
    "graph.add_node(\"generate_outline\", generate_outline)\n",
    "graph.add_node(\"generate_blog\", generate_blog)\n",
    "\n",
    "graph.add_edge(START, \"generate_outline\")\n",
    "graph.add_edge(\"generate_outline\", \"generate_blog\")\n",
    "graph.add_edge(\"generate_blog\", END)\n",
    "\n",
    "workflow=graph.compile()"
   ]
  },
  {
   "cell_type": "code",
   "execution_count": 6,
   "id": "83c11ddf",
   "metadata": {},
   "outputs": [
    {
     "data": {
      "image/png": "[encoded data removed]",
      "text/plain": [
       "<langgraph.graph.state.CompiledStateGraph object at 0x0000024A64356410>"
      ]
     },
     "execution_count": 6,
     "metadata": {},
     "output_type": "execute_result"
    }
   ],
   "source": [
    "workflow"
   ]
  },
  {
   "cell_type": "code",
   "execution_count": null,
   "id": "94667a7c",
   "metadata": {},
   "outputs": [
    {
     "data": {
      "text/plain": [
       "{'topic': 'Quantum computing',\n",
       " 'outline': \"Here is a detailed outline for the topic of Quantum Computing:\\n\\n**I. Introduction**\\n\\n* Definition of Quantum Computing\\n* Brief history of Quantum Computing\\n* Importance and potential applications of Quantum Computing\\n\\n**II. Fundamentals of Quantum Mechanics**\\n\\n* Wave-particle duality\\n* Superposition and entanglement\\n* Uncertainty principle\\n* Quantum bits (qubits) and quantum gates\\n\\n**III. Quantum Computing Hardware**\\n\\n* Quantum processors: superconducting, ion trap, and topological qubits\\n* Quantum control and error correction\\n* Quantum memory and data storage\\n\\n**IV. Quantum Algorithms**\\n\\n* Shor's algorithm: factoring and cryptography\\n* Grover's algorithm: search and optimization\\n* Quantum simulation and quantum machine learning\\n* Quantum error correction and fault-tolerant computing\\n\\n**V. Quantum Computing Software**\\n\\n* Programming languages: Q# (Microsoft), Qiskit (IBM), and Q (Rigetti Computing)\\n* Quantum circuit simulation and compilation\\n* Quantum programming frameworks and libraries\\n\\n**VI. Applications of Quantum Computing**\\n\\n* Cryptography and cybersecurity\\n* Optimization and machine learning\\n* Quantum chemistry and materials science\\n* Quantum metrology and sensing\\n* Quantum simulation and modeling\\n\\n**VII. Challenges and Limitations**\\n\\n* Quantum noise and error correction\\n* Scalability and quantum control\\n* Quantum algorithms and their limitations\\n* Quantum computing and classical computing\\n\\n**VIII. Future Directions and Research**\\n\\n* Quantum computing and artificial intelligence\\n* Quantum computing and machine learning\\n* Quantum computing and cloud computing\\n* Quantum computing and the internet of things (IoT)\\n\\n**IX. Conclusion**\\n\\n* Summary of key concepts and ideas\\n* Potential impact of Quantum Computing on society\\n* Future prospects and challenges for Quantum Computing research and development\\n\\nThis outline should provide a comprehensive overview of the topic of Quantum Computing, covering its fundamentals, hardware, software, applications, challenges, and future directions.\",\n",
       " 'content': \"**The Future of Computing: An Introduction to Quantum Computing**\\n\\nIn recent years, the world of computing has been witnessing a revolution of sorts, with the emergence of a new technology that promises to transform the way we process information: Quantum Computing. In this blog post, we'll delve into the world of Quantum Computing, exploring its definition, history, importance, and potential applications. We'll also examine the fundamental principles of Quantum Mechanics, the hardware and software that make Quantum Computing possible, and the challenges and limitations that come with it. Finally, we'll look at the future directions and research that are shaping the landscape of Quantum Computing.\\n\\n**What is Quantum Computing?**\\n\\nQuantum Computing is a new type of computing that uses the principles of Quantum Mechanics to perform calculations and operations on data. Unlike classical computers, which use bits to store and process information, Quantum Computers use Quantum Bits, or qubits, which can exist in multiple states simultaneously. This allows Quantum Computers to perform calculations that are exponentially faster than classical computers for certain types of problems.\\n\\n**A Brief History of Quantum Computing**\\n\\nThe concept of Quantum Computing dates back to the 1980s, but it wasn't until the 1990s that the first Quantum Computers were built. Since then, there has been rapid progress in the development of Quantum Computing, with several companies and organizations now working on the technology. Today, Quantum Computing is being used in a variety of applications, from cryptography and cybersecurity to optimization and machine learning.\\n\\n**Why is Quantum Computing Important?**\\n\\nQuantum Computing is important because it has the potential to solve problems that are currently unsolvable with classical computers. This includes complex problems in fields such as cryptography, optimization, and machine learning, where Quantum Computers can perform calculations that are exponentially faster than classical computers. Additionally, Quantum Computing has the potential to revolutionize fields such as medicine, finance, and materials science, where complex simulations and modeling are critical.\\n\\n**Fundamentals of Quantum Mechanics**\\n\\nTo understand Quantum Computing, it's essential to have a basic understanding of Quantum Mechanics. This includes concepts such as wave-particle duality, superposition, and entanglement. Quantum Mechanics is a branch of physics that studies the behavior of matter and energy at the atomic and subatomic level. It's based on the principles of wave-particle duality, which states that particles can exhibit both wave-like and particle-like behavior. Superposition is another key concept in Quantum Mechanics, which allows particles to exist in multiple states simultaneously. Entanglement is a phenomenon where particles become connected and can affect each other even when separated by large distances.\\n\\n**Quantum Computing Hardware**\\n\\nQuantum Computing hardware is designed to manipulate qubits and perform calculations. There are several types of Quantum Computing hardware, including superconducting qubits, ion trap qubits, and topological qubits. Quantum control and error correction are critical components of Quantum Computing hardware, as qubits are prone to errors and decoherence. Quantum memory and data storage are also essential components, as Quantum Computers require large amounts of storage to perform complex calculations.\\n\\n**Quantum Algorithms**\\n\\nQuantum Algorithms are programs that are designed to run on Quantum Computers. There are several types of Quantum Algorithms, including Shor's algorithm, Grover's algorithm, and Quantum Simulation. Shor's algorithm is used for factoring and cryptography, while Grover's algorithm is used for search and optimization. Quantum Simulation is used to simulate complex systems and model real-world phenomena.\\n\\n**Quantum Computing Software**\\n\\nQuantum Computing software is designed to program and simulate Quantum Computers. There are several programming languages and frameworks for Quantum Computing, including Q#, Qiskit, and Q. These languages and frameworks allow developers to write programs that can run on Quantum Computers and simulate the behavior of qubits.\\n\\n**Applications of Quantum Computing**\\n\\nQuantum Computing has several potential applications, including cryptography and cybersecurity, optimization and machine learning, quantum chemistry and materials science, and quantum metrology and sensing. Quantum Computers can solve complex problems in these fields exponentially faster than classical computers, making them potentially game-changing.\\n\\n**Challenges and Limitations**\\n\\nQuantum Computing is still a relatively new and developing field, and there are several challenges and limitations that need to be addressed. These include quantum noise and error correction, scalability and quantum control, and the need for large amounts of storage and processing power. Additionally, Quantum Computing is still in its early stages, and there are many unknowns that need to be addressed before it can be widely adopted.\\n\\n**Future Directions and Research**\\n\\nThe future of Quantum Computing is exciting and uncertain. There are many research directions that are being explored, including Quantum Computing and artificial intelligence, Quantum Computing and machine learning, and Quantum Computing and cloud computing. Additionally, there are many challenges that need to be addressed before Quantum Computing can be widely adopted, including scalability, error correction, and the need for large amounts of storage and processing power.\\n\\n**Conclusion**\\n\\nIn conclusion, Quantum Computing is a revolutionary technology that has the potential to transform the way we process information. It's based on the principles of Quantum Mechanics and uses qubits to perform calculations. Quantum Computing has several potential applications, including cryptography and cybersecurity, optimization and machine learning, and quantum chemistry and materials science. While there are many challenges and limitations that need to be addressed, the future of Quantum Computing is exciting and uncertain. With continued research and development, Quantum Computing has the potential to change the world.\"}"
      ]
     },
     "execution_count": 7,
     "metadata": {},
     "output_type": "execute_result"
    }
   ],
   "source": [
    "initial_state={\"topic\": \"Quantum computing\"}\n",
    "final_state=workflow.invoke(initial_state)\n",
    "final_state"
   ]
  },
  {
   "cell_type": "code",
   "execution_count": null,
   "id": "9fae76ed",
   "metadata": {},
   "outputs": [
    {
     "data": {
      "text/plain": [
       "\"**The Future of Computing: An Introduction to Quantum Computing**\\n\\nIn recent years, the world of computing has been witnessing a revolution of sorts, with the emergence of a new technology that promises to transform the way we process information: Quantum Computing. In this blog post, we'll delve into the world of Quantum Computing, exploring its definition, history, importance, and potential applications. We'll also examine the fundamental principles of Quantum Mechanics, the hardware and software that make Quantum Computing possible, and the challenges and limitations that come with it. Finally, we'll look at the future directions and research that are shaping the landscape of Quantum Computing.\\n\\n**What is Quantum Computing?**\\n\\nQuantum Computing is a new type of computing that uses the principles of Quantum Mechanics to perform calculations and operations on data. Unlike classical computers, which use bits to store and process information, Quantum Computers use Quantum Bits, or qubits, which can exist in multiple states simultaneously. This allows Quantum Computers to perform calculations that are exponentially faster than classical computers for certain types of problems.\\n\\n**A Brief History of Quantum Computing**\\n\\nThe concept of Quantum Computing dates back to the 1980s, but it wasn't until the 1990s that the first Quantum Computers were built. Since then, there has been rapid progress in the development of Quantum Computing, with several companies and organizations now working on the technology. Today, Quantum Computing is being used in a variety of applications, from cryptography and cybersecurity to optimization and machine learning.\\n\\n**Why is Quantum Computing Important?**\\n\\nQuantum Computing is important because it has the potential to solve problems that are currently unsolvable with classical computers. This includes complex problems in fields such as cryptography, optimization, and machine learning, where Quantum Computers can perform calculations that are exponentially faster than classical computers. Additionally, Quantum Computing has the potential to revolutionize fields such as medicine, finance, and materials science, where complex simulations and modeling are critical.\\n\\n**Fundamentals of Quantum Mechanics**\\n\\nTo understand Quantum Computing, it's essential to have a basic understanding of Quantum Mechanics. This includes concepts such as wave-particle duality, superposition, and entanglement. Quantum Mechanics is a branch of physics that studies the behavior of matter and energy at the atomic and subatomic level. It's based on the principles of wave-particle duality, which states that particles can exhibit both wave-like and particle-like behavior. Superposition is another key concept in Quantum Mechanics, which allows particles to exist in multiple states simultaneously. Entanglement is a phenomenon where particles become connected and can affect each other even when separated by large distances.\\n\\n**Quantum Computing Hardware**\\n\\nQuantum Computing hardware is designed to manipulate qubits and perform calculations. There are several types of Quantum Computing hardware, including superconducting qubits, ion trap qubits, and topological qubits. Quantum control and error correction are critical components of Quantum Computing hardware, as qubits are prone to errors and decoherence. Quantum memory and data storage are also essential components, as Quantum Computers require large amounts of storage to perform complex calculations.\\n\\n**Quantum Algorithms**\\n\\nQuantum Algorithms are programs that are designed to run on Quantum Computers. There are several types of Quantum Algorithms, including Shor's algorithm, Grover's algorithm, and Quantum Simulation. Shor's algorithm is used for factoring and cryptography, while Grover's algorithm is used for search and optimization. Quantum Simulation is used to simulate complex systems and model real-world phenomena.\\n\\n**Quantum Computing Software**\\n\\nQuantum Computing software is designed to program and simulate Quantum Computers. There are several programming languages and frameworks for Quantum Computing, including Q#, Qiskit, and Q. These languages and frameworks allow developers to write programs that can run on Quantum Computers and simulate the behavior of qubits.\\n\\n**Applications of Quantum Computing**\\n\\nQuantum Computing has several potential applications, including cryptography and cybersecurity, optimization and machine learning, quantum chemistry and materials science, and quantum metrology and sensing. Quantum Computers can solve complex problems in these fields exponentially faster than classical computers, making them potentially game-changing.\\n\\n**Challenges and Limitations**\\n\\nQuantum Computing is still a relatively new and developing field, and there are several challenges and limitations that need to be addressed. These include quantum noise and error correction, scalability and quantum control, and the need for large amounts of storage and processing power. Additionally, Quantum Computing is still in its early stages, and there are many unknowns that need to be addressed before it can be widely adopted.\\n\\n**Future Directions and Research**\\n\\nThe future of Quantum Computing is exciting and uncertain. There are many research directions that are being explored, including Quantum Computing and artificial intelligence, Quantum Computing and machine learning, and Quantum Computing and cloud computing. Additionally, there are many challenges that need to be addressed before Quantum Computing can be widely adopted, including scalability, error correction, and the need for large amounts of storage and processing power.\\n\\n**Conclusion**\\n\\nIn conclusion, Quantum Computing is a revolutionary technology that has the potential to transform the way we process information. It's based on the principles of Quantum Mechanics and uses qubits to perform calculations. Quantum Computing has several potential applications, including cryptography and cybersecurity, optimization and machine learning, and quantum chemistry and materials science. While there are many challenges and limitations that need to be addressed, the future of Quantum Computing is exciting and uncertain. With continued research and development, Quantum Computing has the potential to change the world.\""
      ]
     },
     "execution_count": 8,
     "metadata": {},
     "output_type": "execute_result"
    }
   ],
   "source": []
  },
  {
   "cell_type": "code",
   "execution_count": null,
   "id": "8b00d0d4",
   "metadata": {},
   "outputs": [],
   "source": []
  }
 ],
 "metadata": {
  "kernelspec": {
   "display_name": "Langraph",
   "language": "python",
   "name": "python3"
  },
  "language_info": {
   "codemirror_mode": {
    "name": "ipython",
    "version": 3
   },
   "file_extension": ".py",
   "mimetype": "text/x-python",
   "name": "python",
   "nbconvert_exporter": "python",
   "pygments_lexer": "ipython3",
   "version": "3.11.0"
  }
 },
 "nbformat": 4,
 "nbformat_minor": 5
}
